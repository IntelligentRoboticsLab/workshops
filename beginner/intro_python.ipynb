{
 "cells": [
  {
   "cell_type": "markdown",
   "id": "454dd117",
   "metadata": {},
   "source": [
    "# Python workshop\n",
    "### Printen\n",
    "\n",
    "Printen in Python is dé manier om je resultaten te bekijken. Als je een zin in deze functie zet, zal hij deze altijd laten zien op je scherm. Je roept deze functie als volgt aan:\n",
    "\n",
    "```python\n",
    "print(\"Hallo wereld!\")\n",
    "```\n",
    "De computer zal nu de zin \"Hallo wereld!\" teruggeven op je scherm.\n",
    "\n",
    "#### Opdracht: \n",
    "Print de zin \"Hallo Nao\" in python."
   ]
  },
  {
   "cell_type": "code",
   "execution_count": null,
   "id": "6820b827",
   "metadata": {},
   "outputs": [],
   "source": [
    "### Schrijf hier je code ###\n"
   ]
  },
  {
   "cell_type": "markdown",
   "id": "29c606ab",
   "metadata": {},
   "source": [
    "### Variabelen\n",
    "\n",
    "Een variabele is een plek waar je informatie kunt opslaan. Stel je een doos van een robot voor: de doos is het variabele en de robot die er in zit is de waarde. Zit de robot niet in de doos, dan blijft het variabele wel bestaan, maar heeft het geen waarde meer.\n",
    "\n",
    "Je kan makkelijk een variabele aanmaken in python, en dit kan van alles zijn, een getal, een zin, of zelfs een lijst.\n",
    "```python\n",
    "variabele = None\n",
    "```\n",
    "Nu heb ik een variabele aangemaakt zonder waarde, maar wanneer je op de plek van 'None' iets anders zet, als een getal, wordt dat de waarde van het variabele. \n",
    "\n",
    "#### Opdracht: \n",
    "Maak zelf een variabele aan en probeer de waarde van deze variabele te printen.\n",
    "\n",
    "Als je variabele een getal is, kan je er ook andere getallen bij optellen, aftrekken, of juist delen of vermenigvuldigen!\n",
    "\n",
    "```python\n",
    "variabele = 2\n",
    "nieuwe_variabele = variabele - 1\n",
    "```\n",
    "De waarde van 'nieuwe_variabele' zal is 1, terwijl variabele nog onveranderd is.\n",
    "\n",
    "#### Opdracht: \n",
    "Probeer nu een getal van je variabele af te trekken zonder een nieuwe variabele aan te maken. Print hiervan het resultaat.\n",
    "\n"
   ]
  },
  {
   "cell_type": "code",
   "execution_count": null,
   "id": "6e8f32fb",
   "metadata": {},
   "outputs": [],
   "source": [
    "### Schrijf hier je code ###\n"
   ]
  },
  {
   "cell_type": "markdown",
   "id": "5d9043a1",
   "metadata": {},
   "source": [
    "### Functies\n",
    "\n",
    "Functies zijn stukjes code die je kunt gebruiken om specifieke taken uit te voeren. \n",
    "\n",
    "Een functie in python maak je als volgt:\n",
    "\n",
    "```python\n",
    "def functie_naam(input):\n",
    "    output = input + 1\n",
    "    return output\n",
    "```\n",
    "\n",
    "In deze functie tel je $1$ bij je getal op. Het getal geef je als input voor je functie. Met deze input doe je dan iets, zoals 1 optellen. Dit slaan we op in het variabel output. Deze output geef je dan terug aan het eind van de functie. Je roept de functie aan door de naam van de functie in te typen met je input waarde tussen de haakjes. Als je het zou willen printen ziet het er zo uit:\n",
    "\n",
    "```python\n",
    "print(functie_naam(2))\n",
    "```\n",
    "\n",
    "Dit geeft het getal $3$ terug. Je kan natuurlijk ook een variabel als input hebben.\n",
    "\n",
    "#### Opdracht:\n",
    "Schrijf zelf een functie die twee input variabelen heeft: het aantal robots dat je nu hebt en het aantal robots die nieuw zijn. Als output geef je het aantal robots dat je nu in totaal hebt.\n",
    "\n",
    "_Hint: Door een komma tussen twee variabelen te zetten, kan je ze allebei meegeven aan de functie_"
   ]
  },
  {
   "cell_type": "code",
   "execution_count": null,
   "id": "18dfd4fb",
   "metadata": {},
   "outputs": [],
   "source": [
    "### Schrijf hier je code ###\n"
   ]
  },
  {
   "cell_type": "markdown",
   "id": "588d5a33",
   "metadata": {},
   "source": [
    "###  if en else\n",
    "\n",
    "Met \"if\" en \"else\" kan je ervoor zorgen dat bepaalde stukjes code alleen uitgevoerd worden als iets True is:\n",
    "\n",
    "```python\n",
    "if True:\n",
    "    # als True, voer dan deze code uit\n",
    "    print(\"Hello Nao\")\n",
    "else:\n",
    "    # als False, voer dan deze code uit\n",
    "    print(\"Bye Nao\")\n",
    "```\n",
    "Met if kan je ook variabelen vergelijken.Zo kan je bijvoorbeeld van twee getallen bekijken of ze groter, kleiner of even groot zijn. Als de vergelijking waar is, wordt het True, als het niet waar is wordt het False. Veelgebruikte operatoren hiervoor zijn < (kleiner dan), > (groter dan) en == (gelijk aan) \n",
    "Bijvoorbeeld:\n",
    "\n",
    "$3==4$ is False, en $3<4$ is True\n",
    "\n",
    "Door in plaats van True een vergelijking te gebruiken (bijvoorbeeld a < b) na de if kan je zorgen dat iets alleen gebeurt als dat True is. Als je na een if een else gebruikt, wordt de code van \"else\" alleen uitgevoerd als de vergelijking False was. \n",
    "\n",
    "#### Opdracht:\n",
    "Schrijf nu zelf een functie is_er_gescoord om te controleren of het aantal doelpunten groter is dan 0. Waarbij je dus een getal (het aantal doelpunten) mee krijgt als input, en \"ja\" of \"nee\" returned als output.  \n",
    "_Hint: om tekst als variabele te geven, moet je de tekst tussen \" \" schrijven, bijvoorbeeld x = \"tekst\"_"
   ]
  },
  {
   "cell_type": "code",
   "execution_count": null,
   "id": "bebdf31e",
   "metadata": {},
   "outputs": [],
   "source": [
    "### Schrijf hier je code ###\n"
   ]
  },
  {
   "cell_type": "markdown",
   "id": "7425bb9f",
   "metadata": {},
   "source": [
    "## Welk team heeft er gewonnen?\n",
    "\n",
    "Nu ben je klaar om zelf een functie te schrijven genaamd \"gewonnen\", om te kijken welk team er heeft gewonnen na een wedstrijd: Het Dutch Nao team, of het andere team BHuman. \n",
    "\n",
    "#### Opdracht:\n",
    "De input van de functie bestaat uit twee getallen, de eerste is het aantal doelpunten dat Dutch Nao Team heeft gescoord, en de tweede het aantal punten wat BHuman heeft gescoord. De functie print de naam van het team dat heeft gewonnen (met een leuke tekstje). De functie returned dit team (als tekst) en met hoeveel doelpunten meer dit team gewonnen heeft (dus als het 3-0 was returned het 3, en als het 3-2 was returned het 1). \n",
    "\n",
    "_Hint: om meerdere dingen te returnen kun je, net als bij meerdere inputs, een komma gebruiken_"
   ]
  },
  {
   "cell_type": "code",
   "execution_count": null,
   "id": "55023278",
   "metadata": {},
   "outputs": [],
   "source": [
    "### Schrijf hier je code ###\n"
   ]
  },
  {
   "cell_type": "markdown",
   "id": "df630e3c",
   "metadata": {},
   "source": [
    "### Lijsten\n",
    "In python kan een lijst gezien worden als meerdere variable die samengevoegd zijn. Hieronder zie je een klein voorbeeld.\n",
    "\n",
    "```python\n",
    "numbers = [1,2,3,4,5]\n",
    "```\n",
    "Om een item in de lijst te kunnen krijgen moet je de naam van de lijst geven en in vierkanten haakjes de locatie van het item geven. Deze locatie noem je een index, dit kan je als volgt doen. <br>\n",
    "\n",
    "LET OP BIJ PYTHON BEGINNEN WE OP 0 MET TELLEN.\n",
    "\n",
    "```python\n",
    "print(numbers[1])\n",
    "print(numbers[3])\n",
    "```\n",
    "\n",
    "Dit print dan de getallen 2 en 4\n",
    "\n",
    "#### Opdracht:\n",
    "Probeer nu zelf het 3de element van de list op te slaan in een variable x"
   ]
  },
  {
   "cell_type": "code",
   "execution_count": null,
   "id": "8749f210",
   "metadata": {},
   "outputs": [],
   "source": [
    "numbers = [1,2,3,4,5]\n",
    "### Schrijf hier je code ###\n"
   ]
  },
  {
   "cell_type": "markdown",
   "id": "88a9f947",
   "metadata": {},
   "source": [
    "### For loop\n",
    "\n",
    "Nu gaan we gebruik maken van loops, als eerste de \"for\" loop, hiermee kan je een bepaald stukje code meerdere keren uitvoeren. Dit doe je doormiddel van for _ in range(), tussen de haakjes na de range plaats je hoe vaak je het stukje code herhaald. Zie het volgende voorbeeld.\n",
    "```python\n",
    "for _ in range(10):\n",
    "    print(\"Dit wordt 10 maal herhaald.\")\n",
    "```\n",
    "Dit print: \n",
    "\n",
    "Dit wordt 10 maal herhaald.\n",
    "\n",
    "Dit wordt 10 maal herhaald.\n",
    "\n",
    "Dit wordt 10 maal herhaald.\n",
    "\n",
    "Dit wordt 10 maal herhaald.\n",
    "\n",
    "Dit wordt 10 maal herhaald.\n",
    "\n",
    "Dit wordt 10 maal herhaald.\n",
    "\n",
    "Dit wordt 10 maal herhaald.\n",
    "\n",
    "Dit wordt 10 maal herhaald.\n",
    "\n",
    "Dit wordt 10 maal herhaald.\n",
    "\n",
    "Dit wordt 10 maal herhaald.\n",
    "\n",
    "Ook kan je over de items in een lijst heen gaan zo kan je bijvoorbeeld alle items in een lijst printen, hiervoor gebruik je for item in [lijstnaam] waarbij [lijstnaam] de naam is van je lijst. Hier is een voorbeeld:\n",
    "```python\n",
    "numbers = [1, 2, 3, 4, 5]\n",
    "\n",
    "for item in numbers:\n",
    "    print(item)\n",
    "```\n",
    "Dit print:\n",
    "\n",
    "1\n",
    "\n",
    "\n",
    "2\n",
    "\n",
    "3\n",
    "\n",
    "4\n",
    "\n",
    "5\n",
    "\n",
    "#### Opdracht: \n",
    "Het Dutch Nao Team heeft 10 wedstrijden gespeeld, in deze wedstrijden hebben ze verschillende goals gescoord namelijk: [0, 5, 1, 2, 1, 1, 0, 0, 4, 8].\n",
    "Schrijf een functie total_goals waarbij je optelt hoeveel goals het dutch nao team in totaal heeft gescoord (en dit als output geeft, met behulp van een for loop? De lijst met goals is al gegeven om als input voor je functie te geven."
   ]
  },
  {
   "cell_type": "code",
   "execution_count": null,
   "id": "8073d12d",
   "metadata": {},
   "outputs": [],
   "source": [
    "goals = [0, 5, 1, 2, 1, 1, 0, 0, 4, 8]\n",
    "### Schrijf je code hier ###\n"
   ]
  },
  {
   "cell_type": "markdown",
   "id": "362c991e",
   "metadata": {},
   "source": [
    "### While loops\n",
    "Een while loop is een loop die blijft door gaan zolang een conditie waar is, een voorbeeld:\n",
    "```python\n",
    "x = 2\n",
    "while x < 5:\n",
    "    print(x)\n",
    "    x = x + 1\n",
    "```\n",
    "Dit print:\n",
    "\n",
    "2\n",
    "\n",
    "3\n",
    "\n",
    "4\n",
    "\n",
    "#### Opdracht: \n",
    "Het Dutch Nao Team speelt tegen B-Human, B-Human staat 5-1 voor, elke minuut verdubbeld het Dutch Nao Team hun scoren terwijl B-human 2 goals scoord. Kan jij een functie wanneer_winnen_we maken die erachter komt hoeveel minuten er nog nodig is totdat de Dutch Nao Team wint van B-Human? De beginwaarde zijn al gegeven."
   ]
  },
  {
   "cell_type": "code",
   "execution_count": null,
   "id": "cfa28b6c",
   "metadata": {},
   "outputs": [],
   "source": [
    "DNT = 1\n",
    "BHuman = 5\n",
    "### Schrijf hier je code ###\n"
   ]
  }
 ],
 "metadata": {
  "kernelspec": {
   "display_name": "Python 3 (ipykernel)",
   "language": "python",
   "name": "python3"
  },
  "language_info": {
   "codemirror_mode": {
    "name": "ipython",
    "version": 3
   },
   "file_extension": ".py",
   "mimetype": "text/x-python",
   "name": "python",
   "nbconvert_exporter": "python",
   "pygments_lexer": "ipython3",
   "version": "3.10.12"
  }
 },
 "nbformat": 4,
 "nbformat_minor": 5
}
