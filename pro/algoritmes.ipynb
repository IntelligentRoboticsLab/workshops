{
 "cells": [
  {
   "cell_type": "markdown",
   "metadata": {},
   "source": [
    "# Snel programmeren op robots\n",
    "\n",
    "Bij het programmeren van robots, is het belangrijk dat alles snel werkt. Want een robot is niet super snel. In dit notebook willen wij jullie uitleggen waarom sommige programmas slomer zijn dan anderen."
   ]
  },
  {
   "cell_type": "markdown",
   "metadata": {},
   "source": [
    "## Het groeien van het aantal stappen\n",
    "In dit deel ga je leren hoe je de snelheid van een programma kan inschatten. Hieronder is een simpel voorbeeld waar je wat mee kan testen."
   ]
  },
  {
   "cell_type": "code",
   "execution_count": null,
   "metadata": {},
   "outputs": [],
   "source": [
    "# Probeer te schatten hoe vaak hoi wordt gegeven als:\n",
    "#   - x = 2\n",
    "#   - x = 4\n",
    "#   - x = 6\n",
    "def print_hoi(x):\n",
    "    for i in range(x):\n",
    "        print(\"hoi\")\n",
    "\n",
    "# Kijk of je gokken goed waren\n",
    "print_hoi(2)"
   ]
  },
  {
   "cell_type": "code",
   "execution_count": null,
   "metadata": {},
   "outputs": [],
   "source": [
    "# Probeer te schatten hoe vaak hoi wordt gegeven als:\n",
    "#   - x = 2\n",
    "#   - x = 4\n",
    "#   - x = 6\n",
    "def print_hoi2(x):\n",
    "    for j in range(x):\n",
    "        for i in range(x):\n",
    "            print(\"hoi\")\n",
    "\n",
    "# Kijk of je gokken goed waren\n",
    "print_hoi2(2)"
   ]
  },
  {
   "cell_type": "markdown",
   "metadata": {},
   "source": [
    "Zoals je hopelijk hebt gezien, groeit een functie veel sneller dan de tweede. Dit komt door de dubbele for-loop, zoals je hieronder kan zien.\n",
    "\n",
    "De eerste functie is `linear`: deze functie heeft even veel stappen als de input. Een lineare functie heeft een vorm: `ax+b`.\n",
    "\n",
    "De tweede functie is `kwadratisch`: deze heeft kwadratisch meer stappen dan de input lang is. Een kwadratische functie heeft de vorm: `a*x^2 + b*x + c`\n",
    "\n",
    "![Complexiteit van print_hoi en print_hoi2](../assets/algoritmes/voorbeeld1.png \"Complexiteit van print_hoi en print_hoi2\")"
   ]
  },
  {
   "cell_type": "markdown",
   "metadata": {},
   "source": [
    "Hetzelfde kan ook gezien worden als de functies afhankelijk zijn van de lengte van de input. Kan jij gokken wat de complexiteit van deze functies zijn?"
   ]
  },
  {
   "cell_type": "code",
   "execution_count": null,
   "metadata": {},
   "outputs": [],
   "source": [
    "# Gok hoeveel prints worden uitgevoerd in de volgende twee functies,\n",
    "#   - als de input 2 lang is\n",
    "#   - als de input 5 lang is\n",
    "#   - als de input 10 lang is\n",
    "\n",
    "def spell_word(word):\n",
    "    for char in word:\n",
    "        print(char)\n",
    "\n",
    "def spell_word_double(word):\n",
    "    for char in word:\n",
    "        print(char)\n",
    "        for char2 in word:\n",
    "            print(f\"{char2}\")\n",
    "\n",
    "def spell_word_double_efficient(word):\n",
    "    for char in word:\n",
    "        print(char)\n",
    "        print(\"\\n\".join(list(word)))\n",
    "\n",
    "# check your answer\n",
    "# spell_word(\"Hallo\")\n",
    "# spell_word_double(\"Hallo\")\n",
    "# spell_word_double_efficient(\"Hallo\")\n"
   ]
  },
  {
   "cell_type": "markdown",
   "metadata": {},
   "source": [
    "Deze functies werken als volgt:\n",
    "\n",
    "* spell_word: print elk character een voor een: is dus linear afhankelijk van de input. Dus dit is een lineare complexiteit die kan worden omschreven met: `aantal_stappen(input) = input`\n",
    "* spell_word_double: print elk character, en voor elk character, print het woord letter voor letter. Deze complexiteit is dus kwadratisch, en kan worden omschreven met `aantal_stappen(input) = input^2 + input`. Hopelijk zie je dat deze functie inderdaad een kwadratische functie is.\n",
    "* spell_word_double_efficient: print elk character, en daarna het hele woord. deze functie heeft dus een lineare complexiteit die kan worden omschreven met `aantal_stappen(input) = 2*input`. Dit is dus veel efficienter, maar doet hetzelfde. In theorie zou je kunnen zeggen dat de `join` functie ook een hogere complexiteit heeft dan 1. Wij doen dit niet, omdat dit te ingewikkeld zou worden, en omdat python dit vaak zo efficient doet, dat het bijna niet merkbaar is.\n",
    "\n",
    "![Complexiteit van de drie spell functies](voorbeeld2.png \"Complexiteit van de drie spell functies\")"
   ]
  },
  {
   "cell_type": "markdown",
   "metadata": {},
   "source": [
    "### Wat informatica termen\n",
    "**Dit is volledig optioneel, en niet nodig voor de rest van dit notebook. Maar voor sommigen is dit wel leuk om te weten.**\n",
    "\n",
    "Om te omschrijven hoe groot algoritmes zijn, gebruiken informatici de `big-O` notatie. Dit betekent: in het allerslechtste geval, hoe veel stappen doet mijn code er dan maximaal over om een input van grootte `n` te verwerken?. Voor de programma's hierboven zou dat dus zijn: O(n) voor de simpele spell functie, en O(n^2 + n) voor de inefficiente spell functie.\n",
    "\n",
    "Maar iets in de vorm van `ax + c` is veel detail. Informatici willen een inschatting weten. Daarom is afgesproken dat de notatie O(n) gelezen mag worden als O(c*n). Dus stel je voor je hebt de complexiteit `3n`, dan is dit O(n).\n",
    "\n",
    "Hetzelfde geld voor kwadratische termen: `ax^2 + bx + c` kan versimpeld worden naar O(constante*n^2). Want, als we stellen dat constante = a + b + c, dan krijgen we: O((a + b + c)x^2). Dit is veel groter dan onze term. In de worst case, zal ons programma `ax^2 + bx + c` stappen zetten, wat minder is dan `(a + b + c)x^2`. Dus valt onze functie onder O(n^2)."
   ]
  },
  {
   "cell_type": "markdown",
   "metadata": {},
   "source": [
    "## Sorteer algoritmes\n",
    "Een van de meest belangrijke functies, is het sorteren van lijsten. Ook binnen robotica: bijvoorbeeld op basis van prioriteit taken uitvoeren binnen de robot.\n",
    "\n",
    "Nu zijn sorteer algoritmes al snel veels te complex. Online zijn er veel oplossingen om snel een lijst op te zoeken.\n",
    "\n",
    "Deze opdracht heeft twee punten:\n",
    "\n",
    "1. Implementeer een algoritme, dat waarschijnlijk geen goede performance heeft. Vergelijk het ook met de build-in functie van python.\n",
    "\n",
    "2. Verzin zelf je eigen sorteer algoritme. Deze mag je zelf verzinnen, je mag kijken op het internet, of je kan doorbouwen op de vorige. Deze moet een lijst nummers van klein naar groot sorteren. Er zit een timer bij, dus je kunt testen of je verbeteringen helpen of niet."
   ]
  },
  {
   "cell_type": "markdown",
   "metadata": {},
   "source": [
    "### Selection sort\n",
    "Dit algoritme is waarschijnlijk het makkelijkste te begrijpen. Dit is hoe het werkt:\n",
    "\n",
    "0. Maak een lege lijst aan, dit wordt de gesorteerde lijst\n",
    "1. Loop door de lijst om het laagste getal te vinden\n",
    "2. Verwijder het laagste getal uit de lijst, en voeg het toe aan de lijst uit stap 0\n",
    "3. Herhaal 1 en 2 totdat de lijst om te sorteren leeg is.\n",
    "Dit algoritme heeft een kwadratische complexiteit. Kan jij zien waarom?"
   ]
  },
  {
   "cell_type": "code",
   "execution_count": null,
   "metadata": {},
   "outputs": [],
   "source": [
    "import random\n",
    "\n",
    "def selection_sort(l):\n",
    "    size = len(l)\n",
    "    for ind in range(size):\n",
    "        min_index = ind\n",
    "\n",
    "        for j in range(ind + 1, size):\n",
    "            # select the minimum element in every iteration\n",
    "            if l[j] < l[min_index]:\n",
    "                min_index = j\n",
    "         # swapping the elements to sort the l\n",
    "        (l[ind], l[min_index]) = (l[min_index], l[ind])\n",
    "    print(l)\n",
    "\n",
    "# Test of je code werkt\n",
    "input_test1 = [0,2,3,1,5,1]\n",
    "selection_sort(input_test1)\n",
    "\n",
    "# Alvast de lijst om de snelheid zo mee te testen\n",
    "input_lijst = [random.random() for _ in range(10000)]"
   ]
  },
  {
   "cell_type": "code",
   "execution_count": null,
   "metadata": {},
   "outputs": [],
   "source": [
    "%%time\n",
    "# Test de snelheid van je programma\n",
    "selection_sort(input_lijst)"
   ]
  },
  {
   "cell_type": "code",
   "execution_count": null,
   "metadata": {},
   "outputs": [],
   "source": [
    "%%time\n",
    "# Test nu hoe veel sneller de build-in python functie sort is\n",
    "input_lijst.sort()\n",
    "print(input_lijst)"
   ]
  },
  {
   "cell_type": "markdown",
   "metadata": {},
   "source": [
    "Hopelijk heb je door dat er veel efficientere functies bestaan. Zoals de automatische sort functie van python! Probeer zo zelf ook eens uit, of jij een nog sneller algoritme kan verzinnen."
   ]
  },
  {
   "cell_type": "markdown",
   "metadata": {},
   "source": [
    "### Maak zelf je eigen algoritme\n",
    "Nu snap je hopelijk een beetje, wat code snel of sloom maakt. Gebruik deze kennis om zelf iets te verzinnen! Dit mag geinspireerd zijn door het internet, je kan doorbouwen op de selection sort, of je kan totaal iets nieuws verzinnen! Onthoud dat `%%time` bovenaan je block code zetten, timed hoe lang dat duurt om uit te voeren."
   ]
  },
  {
   "cell_type": "code",
   "execution_count": null,
   "metadata": {},
   "outputs": [],
   "source": [
    "%%time\n",
    "def eigen_sort(l):\n",
    "    pass\n",
    "\n",
    "eigen_sort([0, 1, 3])\n",
    "eigen_sort([random.random() for _ in range(10000)])"
   ]
  }
 ],
 "metadata": {
  "kernelspec": {
   "display_name": "base",
   "language": "python",
   "name": "python3"
  },
  "language_info": {
   "codemirror_mode": {
    "name": "ipython",
    "version": 3
   },
   "file_extension": ".py",
   "mimetype": "text/x-python",
   "name": "python",
   "nbconvert_exporter": "python",
   "pygments_lexer": "ipython3",
   "version": "3.12.1"
  }
 },
 "nbformat": 4,
 "nbformat_minor": 2
}
